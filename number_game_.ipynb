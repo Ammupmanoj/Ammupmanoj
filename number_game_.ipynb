{
  "nbformat": 4,
  "nbformat_minor": 0,
  "metadata": {
    "colab": {
      "provenance": [],
      "authorship_tag": "ABX9TyM7jPA8yVODzGBTx/oxY7Fp",
      "include_colab_link": true
    },
    "kernelspec": {
      "name": "python3",
      "display_name": "Python 3"
    },
    "language_info": {
      "name": "python"
    }
  },
  "cells": [
    {
      "cell_type": "markdown",
      "metadata": {
        "id": "view-in-github",
        "colab_type": "text"
      },
      "source": [
        "<a href=\"https://colab.research.google.com/github/Ammupmanoj/Ammupmanoj/blob/main/number_game_.ipynb\" target=\"_parent\"><img src=\"https://colab.research.google.com/assets/colab-badge.svg\" alt=\"Open In Colab\"/></a>"
      ]
    },
    {
      "cell_type": "code",
      "execution_count": null,
      "metadata": {
        "colab": {
          "base_uri": "https://localhost:8080/"
        },
        "id": "CC3zwKCU98Cs",
        "outputId": "e4bc0dc9-b059-4bcd-dc1d-c38ef27549d9"
      },
      "outputs": [
        {
          "output_type": "stream",
          "name": "stdout",
          "text": [
            "Welcome to the Number Guessing Game!\n"
          ]
        }
      ],
      "source": [
        "import random\n",
        "\n",
        "print(\"Welcome to the Number Guessing Game!\")\n",
        "\n",
        "# Computer chooses a random number between 1 and 100\n",
        "secret_number = random.randint(1, 100)\n",
        "\n",
        "attempts = 0\n",
        "while True:\n",
        "    guess = int(input(\"Guess a number between 1 and 100: \"))\n",
        "    attempts += 1\n",
        "\n",
        "    if guess < secret_number:\n",
        "        print(\"Too low! Try again.\")\n",
        "    elif guess > secret_number:\n",
        "        print(\"Too high! Try again.\")\n",
        "    else:\n",
        "        print(f\"🎉 Congratulations! You guessed the number {secret_number} in {attempts} attempts.\")\n",
        "        break\n"
      ]
    },
    {
      "cell_type": "code",
      "source": [
        "import random\n",
        "\n",
        "secret_number = random.randint(1, 100)\n",
        "attempts = 0\n",
        "while True:\n",
        "    guess = int(input(\"Guess a number between 1 and 100: \"))\n",
        "    attempts += 1\n",
        "    if guess < secret_number:\n",
        "        print(\"Too low!\")\n",
        "    elif guess > secret_number:\n",
        "        print(\"Too high!\")\n",
        "    else:\n",
        "        print(f\"🎉 Correct! The number was {secret_number}. Attempts: {attempts}\")\n",
        "        break\n"
      ],
      "metadata": {
        "id": "xvwWICMR-HsR"
      },
      "execution_count": null,
      "outputs": []
    },
    {
      "cell_type": "code",
      "source": [
        "num = int(input(\"Enter a number: \"))\n",
        "if num % 2 == 0:\n",
        "    print(f\"{num} is Even\")\n",
        "else:\n",
        "    print(f\"{num} is Odd\")\n"
      ],
      "metadata": {
        "id": "ngm_nL9x-0-T"
      },
      "execution_count": null,
      "outputs": []
    },
    {
      "cell_type": "code",
      "source": [
        "n = int(input(\"Enter a number: \"))\n",
        "for i in range(1, 11):\n",
        "    print(f\"{n} x {i} = {n*i}\")\n"
      ],
      "metadata": {
        "id": "0hfJCLse-5mH"
      },
      "execution_count": null,
      "outputs": []
    },
    {
      "cell_type": "code",
      "source": [
        "n = int(input(\"Enter a number: \"))\n",
        "fact = 1\n",
        "for i in range(1, n+1):\n",
        "    fact *= i\n",
        "print(f\"Factorial of {n} = {fact}\")\n"
      ],
      "metadata": {
        "id": "iZTmikR2-5i2"
      },
      "execution_count": null,
      "outputs": []
    },
    {
      "cell_type": "code",
      "source": [
        "n = int(input(\"Enter a number: \"))\n",
        "fact = 1\n",
        "for i in range(1, n+1):\n",
        "    fact *= i\n",
        "print(f\"Factorial of {n} = {fact}\")\n"
      ],
      "metadata": {
        "id": "WZJMEIdu-5f6"
      },
      "execution_count": null,
      "outputs": []
    },
    {
      "cell_type": "code",
      "source": [
        "num = int(input(\"Enter a number: \"))\n",
        "total = 0\n",
        "for digit in str(num):\n",
        "    total += int(digit)\n",
        "print(f\"Sum of digits of {num} = {total}\")\n"
      ],
      "metadata": {
        "id": "uxPsT4T5-5c5"
      },
      "execution_count": null,
      "outputs": []
    },
    {
      "cell_type": "code",
      "source": [
        "num = int(input(\"Enter a number: \"))\n",
        "reverse = int(str(num)[::-1])\n",
        "print(f\"Reverse of {num} = {reverse}\")\n"
      ],
      "metadata": {
        "id": "PYqBO3Fh-5Nl"
      },
      "execution_count": null,
      "outputs": []
    },
    {
      "cell_type": "code",
      "source": [
        "num = int(input(\"Enter a number: \"))\n",
        "if str(num) == str(num)[::-1]:\n",
        "    print(f\"{num} is a Palindrome\")\n",
        "else:\n",
        "    print(f\"{num} is NOT a Palindrome\")\n"
      ],
      "metadata": {
        "id": "zPYApax4-5Fn"
      },
      "execution_count": null,
      "outputs": []
    },
    {
      "cell_type": "code",
      "source": [
        "num = int(input(\"Enter a number: \"))\n",
        "s = sum(int(digit)**3 for digit in str(num))\n",
        "if s == num:\n",
        "    print(f\"{num} is an Armstrong number\")\n",
        "else:\n",
        "    print(f\"{num} is NOT an Armstrong number\")\n"
      ],
      "metadata": {
        "id": "kURrE4uk_HI-"
      },
      "execution_count": null,
      "outputs": []
    },
    {
      "cell_type": "code",
      "source": [
        "num = int(input(\"Enter a number: \"))\n",
        "if num > 1:\n",
        "    for i in range(2, num):\n",
        "        if num % i == 0:\n",
        "            print(f\"{num} is NOT Prime\")\n",
        "            break\n",
        "    else:\n",
        "        print(f\"{num} is Prime\")\n",
        "else:\n",
        "    print(f\"{num} is NOT Prime\")\n"
      ],
      "metadata": {
        "id": "jmYqBOxO_J0A"
      },
      "execution_count": null,
      "outputs": []
    },
    {
      "cell_type": "code",
      "source": [
        "n = int(input(\"Enter how many terms: \"))\n",
        "a, b = 0, 1\n",
        "for _ in range(n):\n",
        "    print(a, end=\" \")\n",
        "    a, b = b, a + b\n"
      ],
      "metadata": {
        "id": "VhAhwccf_NGp"
      },
      "execution_count": null,
      "outputs": []
    }
  ]
}